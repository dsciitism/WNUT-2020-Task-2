{
  "nbformat": 4,
  "nbformat_minor": 0,
  "metadata": {
    "colab": {
      "name": "Conventional Approaches.ipynb",
      "provenance": []
    },
    "kernelspec": {
      "name": "python3",
      "display_name": "Python 3"
    }
  },
  "cells": [
    {
      "cell_type": "markdown",
      "metadata": {
        "id": "_dPZIt07-klz"
      },
      "source": [
        "Import required libraries"
      ]
    },
    {
      "cell_type": "code",
      "metadata": {
        "id": "W82elW6H5swu",
        "outputId": "38c5d3f3-968e-4fdc-acf6-2be1b2fd9d52",
        "colab": {
          "base_uri": "https://localhost:8080/",
          "height": 50
        }
      },
      "source": [
        "import pandas as pd\n",
        "import numpy as np\n",
        "import seaborn as sns\n",
        "import matplotlib.pyplot as plt\n",
        "\n",
        "\n",
        "from sklearn.linear_model import LogisticRegression\n",
        "from sklearn import svm\n",
        "from sklearn.naive_bayes import BernoulliNB\n",
        "from sklearn.ensemble import RandomForestClassifier\n",
        "from sklearn.neural_network import MLPClassifier\n",
        "\n",
        "\n",
        "from sklearn.feature_extraction.text import CountVectorizer\n",
        "from sklearn.feature_extraction.text import TfidfVectorizer\n",
        "from sklearn.metrics import accuracy_score,f1_score\n",
        "from sklearn.preprocessing import LabelEncoder\n",
        "from sklearn.metrics import classification_report\n",
        "\n",
        "\n",
        "import sys\n",
        "import re\n",
        "!pip install emoji --quiet\n",
        "import emoji\n",
        "!pip install contractions --quiet\n",
        "import contractions\n",
        "import nltk\n",
        "from nltk.corpus import stopwords\n",
        "nltk.download('stopwords')\n",
        "import unicodedata"
      ],
      "execution_count": 1,
      "outputs": [
        {
          "output_type": "stream",
          "text": [
            "[nltk_data] Downloading package stopwords to /root/nltk_data...\n",
            "[nltk_data]   Package stopwords is already up-to-date!\n"
          ],
          "name": "stdout"
        }
      ]
    },
    {
      "cell_type": "markdown",
      "metadata": {
        "id": "pprVPNLz-uwK"
      },
      "source": [
        "## Dataset"
      ]
    },
    {
      "cell_type": "code",
      "metadata": {
        "id": "ntfyXmtW5ybP",
        "outputId": "0a596d8d-4356-4736-fdca-d74c7c25094b",
        "colab": {
          "base_uri": "https://localhost:8080/",
          "height": 402
        }
      },
      "source": [
        "train= pd.read_csv(\"/content/drive/My Drive/COVID19Tweet-master/TRAIN_WNUT.csv\")\n",
        "valid=pd.read_csv(\"/content/drive/My Drive/COVID19Tweet-master/VALID_WNUT.csv\")\n",
        "total= pd.concat([train,valid],ignore_index=True)\n",
        "mix = total.iloc[:,1:]\n",
        "mix"
      ],
      "execution_count": 2,
      "outputs": [
        {
          "output_type": "execute_result",
          "data": {
            "text/html": [
              "<div>\n",
              "<style scoped>\n",
              "    .dataframe tbody tr th:only-of-type {\n",
              "        vertical-align: middle;\n",
              "    }\n",
              "\n",
              "    .dataframe tbody tr th {\n",
              "        vertical-align: top;\n",
              "    }\n",
              "\n",
              "    .dataframe thead th {\n",
              "        text-align: right;\n",
              "    }\n",
              "</style>\n",
              "<table border=\"1\" class=\"dataframe\">\n",
              "  <thead>\n",
              "    <tr style=\"text-align: right;\">\n",
              "      <th></th>\n",
              "      <th>Id</th>\n",
              "      <th>Text</th>\n",
              "      <th>Label</th>\n",
              "    </tr>\n",
              "  </thead>\n",
              "  <tbody>\n",
              "    <tr>\n",
              "      <th>0</th>\n",
              "      <td>1241490299215634434</td>\n",
              "      <td>Official death toll from #covid19 in the Unite...</td>\n",
              "      <td>INFORMATIVE</td>\n",
              "    </tr>\n",
              "    <tr>\n",
              "      <th>1</th>\n",
              "      <td>1245916400981381130</td>\n",
              "      <td>Dearest Mr. President @USER 1,169 coronavirus ...</td>\n",
              "      <td>INFORMATIVE</td>\n",
              "    </tr>\n",
              "    <tr>\n",
              "      <th>2</th>\n",
              "      <td>1241132432402849793</td>\n",
              "      <td>Latest Updates March 20 ⚠️5274 new cases and 3...</td>\n",
              "      <td>INFORMATIVE</td>\n",
              "    </tr>\n",
              "    <tr>\n",
              "      <th>3</th>\n",
              "      <td>1236107253666607104</td>\n",
              "      <td>真把公主不当干部 BREAKING: 21 people on Grand Princess...</td>\n",
              "      <td>INFORMATIVE</td>\n",
              "    </tr>\n",
              "    <tr>\n",
              "      <th>4</th>\n",
              "      <td>1239673817552879619</td>\n",
              "      <td>OKLAHOMA CITY — The State Department of Educat...</td>\n",
              "      <td>UNINFORMATIVE</td>\n",
              "    </tr>\n",
              "    <tr>\n",
              "      <th>...</th>\n",
              "      <td>...</td>\n",
              "      <td>...</td>\n",
              "      <td>...</td>\n",
              "    </tr>\n",
              "    <tr>\n",
              "      <th>7995</th>\n",
              "      <td>1245955124222099456</td>\n",
              "      <td>Coronavirus took hold in UK earlier than thoug...</td>\n",
              "      <td>UNINFORMATIVE</td>\n",
              "    </tr>\n",
              "    <tr>\n",
              "      <th>7996</th>\n",
              "      <td>1241768801210904576</td>\n",
              "      <td>I talked with a man who is Rowan County’s seco...</td>\n",
              "      <td>INFORMATIVE</td>\n",
              "    </tr>\n",
              "    <tr>\n",
              "      <th>7997</th>\n",
              "      <td>1241172153040502795</td>\n",
              "      <td>Governor Wolf delaying enforcement of non-life...</td>\n",
              "      <td>UNINFORMATIVE</td>\n",
              "    </tr>\n",
              "    <tr>\n",
              "      <th>7998</th>\n",
              "      <td>1239740620194766848</td>\n",
              "      <td>The Sheriff's Department has reduced the jail ...</td>\n",
              "      <td>UNINFORMATIVE</td>\n",
              "    </tr>\n",
              "    <tr>\n",
              "      <th>7999</th>\n",
              "      <td>1236131066596986882</td>\n",
              "      <td>BREAKING NEWS: 2 possible cases of #COVIDー19 i...</td>\n",
              "      <td>INFORMATIVE</td>\n",
              "    </tr>\n",
              "  </tbody>\n",
              "</table>\n",
              "<p>8000 rows × 3 columns</p>\n",
              "</div>"
            ],
            "text/plain": [
              "                       Id  ...          Label\n",
              "0     1241490299215634434  ...    INFORMATIVE\n",
              "1     1245916400981381130  ...    INFORMATIVE\n",
              "2     1241132432402849793  ...    INFORMATIVE\n",
              "3     1236107253666607104  ...    INFORMATIVE\n",
              "4     1239673817552879619  ...  UNINFORMATIVE\n",
              "...                   ...  ...            ...\n",
              "7995  1245955124222099456  ...  UNINFORMATIVE\n",
              "7996  1241768801210904576  ...    INFORMATIVE\n",
              "7997  1241172153040502795  ...  UNINFORMATIVE\n",
              "7998  1239740620194766848  ...  UNINFORMATIVE\n",
              "7999  1236131066596986882  ...    INFORMATIVE\n",
              "\n",
              "[8000 rows x 3 columns]"
            ]
          },
          "metadata": {
            "tags": []
          },
          "execution_count": 2
        }
      ]
    },
    {
      "cell_type": "markdown",
      "metadata": {
        "id": "8UkHQmWZ-xa5"
      },
      "source": [
        "## Data Cleaning"
      ]
    },
    {
      "cell_type": "code",
      "metadata": {
        "id": "SJ-EDDek5-VP",
        "outputId": "40096475-e6d0-4153-b66a-ee8554820493",
        "colab": {
          "base_uri": "https://localhost:8080/",
          "height": 402
        }
      },
      "source": [
        "def cleaning(text):\n",
        "  text= text.lower()\n",
        "  text= emoji.demojize(text)\n",
        "  text=contractions.fix(text)\n",
        "  text=text.strip()\n",
        "  text=text.replace('[^\\w\\s]','')\n",
        "  text=re.sub(r'http\\S+', '', text)\n",
        "  REPLACE_BY_SPACE_RE = re.compile('[/(){}\\[\\]\\|@,;]')\n",
        "  BAD_SYMBOLS_RE = re.compile('[^0-9a-z +]')\n",
        "  text = REPLACE_BY_SPACE_RE.sub(' ' , text)\n",
        "  text = BAD_SYMBOLS_RE.sub(' ',text)\n",
        "  \n",
        "  return text\n",
        "\n",
        "clean=mix['Text'].apply(cleaning)\n",
        "STOPWORDS = set(stopwords.words('english'))\n",
        "\n",
        "ff=[]\n",
        "for i in clean:\n",
        "  text=unicodedata.normalize('NFKD', i).encode('ascii', 'ignore').decode('utf-8', 'ignore')\n",
        "  ff.append(text)\n",
        "dd=pd.DataFrame(ff)\n",
        "dataset = pd.concat([dd,mix['Label']],axis=1)\n",
        "dataset"
      ],
      "execution_count": 3,
      "outputs": [
        {
          "output_type": "execute_result",
          "data": {
            "text/html": [
              "<div>\n",
              "<style scoped>\n",
              "    .dataframe tbody tr th:only-of-type {\n",
              "        vertical-align: middle;\n",
              "    }\n",
              "\n",
              "    .dataframe tbody tr th {\n",
              "        vertical-align: top;\n",
              "    }\n",
              "\n",
              "    .dataframe thead th {\n",
              "        text-align: right;\n",
              "    }\n",
              "</style>\n",
              "<table border=\"1\" class=\"dataframe\">\n",
              "  <thead>\n",
              "    <tr style=\"text-align: right;\">\n",
              "      <th></th>\n",
              "      <th>0</th>\n",
              "      <th>Label</th>\n",
              "    </tr>\n",
              "  </thead>\n",
              "  <tbody>\n",
              "    <tr>\n",
              "      <th>0</th>\n",
              "      <td>official death toll from  covid19 in the unite...</td>\n",
              "      <td>INFORMATIVE</td>\n",
              "    </tr>\n",
              "    <tr>\n",
              "      <th>1</th>\n",
              "      <td>dearest mr  president  user 1 169 coronavirus ...</td>\n",
              "      <td>INFORMATIVE</td>\n",
              "    </tr>\n",
              "    <tr>\n",
              "      <th>2</th>\n",
              "      <td>latest updates march 20  warning selector 5274...</td>\n",
              "      <td>INFORMATIVE</td>\n",
              "    </tr>\n",
              "    <tr>\n",
              "      <th>3</th>\n",
              "      <td>breaking  21 people on grand princess...</td>\n",
              "      <td>INFORMATIVE</td>\n",
              "    </tr>\n",
              "    <tr>\n",
              "      <th>4</th>\n",
              "      <td>oklahoma city   the state department of educat...</td>\n",
              "      <td>UNINFORMATIVE</td>\n",
              "    </tr>\n",
              "    <tr>\n",
              "      <th>...</th>\n",
              "      <td>...</td>\n",
              "      <td>...</td>\n",
              "    </tr>\n",
              "    <tr>\n",
              "      <th>7995</th>\n",
              "      <td>coronavirus took hold in uk earlier than thoug...</td>\n",
              "      <td>UNINFORMATIVE</td>\n",
              "    </tr>\n",
              "    <tr>\n",
              "      <th>7996</th>\n",
              "      <td>i talked with a man who is rowan county s seco...</td>\n",
              "      <td>INFORMATIVE</td>\n",
              "    </tr>\n",
              "    <tr>\n",
              "      <th>7997</th>\n",
              "      <td>governor wolf delaying enforcement of non life...</td>\n",
              "      <td>UNINFORMATIVE</td>\n",
              "    </tr>\n",
              "    <tr>\n",
              "      <th>7998</th>\n",
              "      <td>the sheriff s department has reduced the jail ...</td>\n",
              "      <td>UNINFORMATIVE</td>\n",
              "    </tr>\n",
              "    <tr>\n",
              "      <th>7999</th>\n",
              "      <td>breaking news  2 possible cases of  covid 19 i...</td>\n",
              "      <td>INFORMATIVE</td>\n",
              "    </tr>\n",
              "  </tbody>\n",
              "</table>\n",
              "<p>8000 rows × 2 columns</p>\n",
              "</div>"
            ],
            "text/plain": [
              "                                                      0          Label\n",
              "0     official death toll from  covid19 in the unite...    INFORMATIVE\n",
              "1     dearest mr  president  user 1 169 coronavirus ...    INFORMATIVE\n",
              "2     latest updates march 20  warning selector 5274...    INFORMATIVE\n",
              "3              breaking  21 people on grand princess...    INFORMATIVE\n",
              "4     oklahoma city   the state department of educat...  UNINFORMATIVE\n",
              "...                                                 ...            ...\n",
              "7995  coronavirus took hold in uk earlier than thoug...  UNINFORMATIVE\n",
              "7996  i talked with a man who is rowan county s seco...    INFORMATIVE\n",
              "7997  governor wolf delaying enforcement of non life...  UNINFORMATIVE\n",
              "7998  the sheriff s department has reduced the jail ...  UNINFORMATIVE\n",
              "7999  breaking news  2 possible cases of  covid 19 i...    INFORMATIVE\n",
              "\n",
              "[8000 rows x 2 columns]"
            ]
          },
          "metadata": {
            "tags": []
          },
          "execution_count": 3
        }
      ]
    },
    {
      "cell_type": "markdown",
      "metadata": {
        "id": "fJJ56wPV-2ZK"
      },
      "source": [
        "## Models for Conventional Approaches"
      ]
    },
    {
      "cell_type": "code",
      "metadata": {
        "id": "Vb_0JAnh77fp"
      },
      "source": [
        "regressor = LogisticRegression(solver='liblinear') \n",
        "S = svm.SVC()\n",
        "N = BernoulliNB()\n",
        "Rf = RandomForestClassifier(max_depth=8, random_state=0)\n",
        "ANN = MLPClassifier(solver='lbfgs', alpha=1e-5,\n",
        "                   hidden_layer_sizes=(5, 2), random_state=1)"
      ],
      "execution_count": 5,
      "outputs": []
    },
    {
      "cell_type": "markdown",
      "metadata": {
        "id": "5u-GT3S67OwC"
      },
      "source": [
        "## Count Vector"
      ]
    },
    {
      "cell_type": "code",
      "metadata": {
        "id": "5Gof0Saa6ouv",
        "outputId": "9346c300-49e3-4e86-84e7-b6d97631eea6",
        "colab": {
          "base_uri": "https://localhost:8080/",
          "height": 50
        }
      },
      "source": [
        "cv= CountVectorizer()\n",
        "transform = cv.fit_transform(dataset[0].values.astype('U'))\n",
        "x_train= transform[:len(train)]                                           #trainset \n",
        "x_valid= transform[len(train):]                                           #validset\n",
        "print(x_train.shape)\n",
        "print(x_valid.shape)"
      ],
      "execution_count": 6,
      "outputs": [
        {
          "output_type": "stream",
          "text": [
            "(7000, 22165)\n",
            "(1000, 22165)\n"
          ],
          "name": "stdout"
        }
      ]
    },
    {
      "cell_type": "markdown",
      "metadata": {
        "id": "TInsrnfBAZjl"
      },
      "source": [
        "### Training the models"
      ]
    },
    {
      "cell_type": "code",
      "metadata": {
        "id": "a9ROXHwc9A17",
        "outputId": "df664252-16a5-49f9-ff6a-ae56ab4c8572",
        "colab": {
          "base_uri": "https://localhost:8080/",
          "height": 151
        }
      },
      "source": [
        "regressor.fit(x_train,dataset['Label'][:len(train)])\n",
        "S.fit(x_train,dataset['Label'][:len(train)])\n",
        "N.fit(x_train,dataset['Label'][:len(train)])\n",
        "Rf.fit(x_train, dataset['Label'][:len(train)])\n",
        "ANN.fit(x_train, dataset['Label'][:len(train)])"
      ],
      "execution_count": 7,
      "outputs": [
        {
          "output_type": "execute_result",
          "data": {
            "text/plain": [
              "MLPClassifier(activation='relu', alpha=1e-05, batch_size='auto', beta_1=0.9,\n",
              "              beta_2=0.999, early_stopping=False, epsilon=1e-08,\n",
              "              hidden_layer_sizes=(5, 2), learning_rate='constant',\n",
              "              learning_rate_init=0.001, max_fun=15000, max_iter=200,\n",
              "              momentum=0.9, n_iter_no_change=10, nesterovs_momentum=True,\n",
              "              power_t=0.5, random_state=1, shuffle=True, solver='lbfgs',\n",
              "              tol=0.0001, validation_fraction=0.1, verbose=False,\n",
              "              warm_start=False)"
            ]
          },
          "metadata": {
            "tags": []
          },
          "execution_count": 7
        }
      ]
    },
    {
      "cell_type": "markdown",
      "metadata": {
        "id": "ssBbFRAMAdw5"
      },
      "source": [
        "### Prediction of labels for Valid dataset using Count Vector"
      ]
    },
    {
      "cell_type": "code",
      "metadata": {
        "id": "iuCUGUVv8jtS"
      },
      "source": [
        "y_pred1= regressor.predict(x_valid)\n",
        "y_pred2= S.predict(x_valid)\n",
        "y_pred3= N.predict(x_valid)\n",
        "y_pred4= Rf.predict(x_valid)\n",
        "y_pred5= ANN.predict(x_valid)"
      ],
      "execution_count": 8,
      "outputs": []
    },
    {
      "cell_type": "code",
      "metadata": {
        "id": "HoES5pH18yGh",
        "outputId": "94d22266-73d2-473b-ac87-48dab892a3ae",
        "colab": {
          "base_uri": "https://localhost:8080/",
          "height": 857
        }
      },
      "source": [
        "for i in range(5):\n",
        "  ac=accuracy_score(dataset['Label'][len(train):], globals()['y_pred'+str(int(i+1))])\n",
        "  print(ac)\n",
        "  print(classification_report(dataset['Label'][len(train):], globals()['y_pred'+str(int(i+1))]))"
      ],
      "execution_count": 9,
      "outputs": [
        {
          "output_type": "stream",
          "text": [
            "0.804\n",
            "               precision    recall  f1-score   support\n",
            "\n",
            "  INFORMATIVE       0.82      0.75      0.78       472\n",
            "UNINFORMATIVE       0.79      0.85      0.82       528\n",
            "\n",
            "     accuracy                           0.80      1000\n",
            "    macro avg       0.81      0.80      0.80      1000\n",
            " weighted avg       0.81      0.80      0.80      1000\n",
            "\n",
            "0.806\n",
            "               precision    recall  f1-score   support\n",
            "\n",
            "  INFORMATIVE       0.84      0.73      0.78       472\n",
            "UNINFORMATIVE       0.78      0.87      0.83       528\n",
            "\n",
            "     accuracy                           0.81      1000\n",
            "    macro avg       0.81      0.80      0.80      1000\n",
            " weighted avg       0.81      0.81      0.80      1000\n",
            "\n",
            "0.785\n",
            "               precision    recall  f1-score   support\n",
            "\n",
            "  INFORMATIVE       0.77      0.78      0.77       472\n",
            "UNINFORMATIVE       0.80      0.79      0.79       528\n",
            "\n",
            "     accuracy                           0.79      1000\n",
            "    macro avg       0.78      0.78      0.78      1000\n",
            " weighted avg       0.79      0.79      0.79      1000\n",
            "\n",
            "0.7\n",
            "               precision    recall  f1-score   support\n",
            "\n",
            "  INFORMATIVE       0.93      0.40      0.55       472\n",
            "UNINFORMATIVE       0.64      0.97      0.77       528\n",
            "\n",
            "     accuracy                           0.70      1000\n",
            "    macro avg       0.78      0.68      0.66      1000\n",
            " weighted avg       0.78      0.70      0.67      1000\n",
            "\n",
            "0.804\n",
            "               precision    recall  f1-score   support\n",
            "\n",
            "  INFORMATIVE       0.81      0.77      0.79       472\n",
            "UNINFORMATIVE       0.80      0.84      0.82       528\n",
            "\n",
            "     accuracy                           0.80      1000\n",
            "    macro avg       0.80      0.80      0.80      1000\n",
            " weighted avg       0.80      0.80      0.80      1000\n",
            "\n"
          ],
          "name": "stdout"
        }
      ]
    },
    {
      "cell_type": "markdown",
      "metadata": {
        "id": "V3mdqU5c9rJ8"
      },
      "source": [
        "## Tf-IDf"
      ]
    },
    {
      "cell_type": "code",
      "metadata": {
        "id": "nZtvoyW49iPd"
      },
      "source": [
        "vectorizer = TfidfVectorizer()\n",
        "X = vectorizer.fit_transform(dataset[0])\n",
        "X_train= X[:len(train)]\n",
        "X_valid= X[len(train):]"
      ],
      "execution_count": 10,
      "outputs": []
    },
    {
      "cell_type": "code",
      "metadata": {
        "id": "dQIWZ7DV9vir",
        "outputId": "ff95db45-25a0-45c4-90f5-60edba72f830",
        "colab": {
          "base_uri": "https://localhost:8080/",
          "height": 252
        }
      },
      "source": [
        "regressor.fit(X_train,dataset['Label'][:len(train)])\n",
        "S.fit(X_train,dataset['Label'][:len(train)])\n",
        "N.fit(X_train,dataset['Label'][:len(train)])\n",
        "Rf.fit(X_train, dataset['Label'][:len(train)])\n",
        "ANN.fit(X_train, dataset['Label'][:len(train)])"
      ],
      "execution_count": 11,
      "outputs": [
        {
          "output_type": "stream",
          "text": [
            "/usr/local/lib/python3.6/dist-packages/sklearn/neural_network/_multilayer_perceptron.py:470: ConvergenceWarning: lbfgs failed to converge (status=1):\n",
            "STOP: TOTAL NO. of ITERATIONS REACHED LIMIT.\n",
            "\n",
            "Increase the number of iterations (max_iter) or scale the data as shown in:\n",
            "    https://scikit-learn.org/stable/modules/preprocessing.html\n",
            "  self.n_iter_ = _check_optimize_result(\"lbfgs\", opt_res, self.max_iter)\n"
          ],
          "name": "stderr"
        },
        {
          "output_type": "execute_result",
          "data": {
            "text/plain": [
              "MLPClassifier(activation='relu', alpha=1e-05, batch_size='auto', beta_1=0.9,\n",
              "              beta_2=0.999, early_stopping=False, epsilon=1e-08,\n",
              "              hidden_layer_sizes=(5, 2), learning_rate='constant',\n",
              "              learning_rate_init=0.001, max_fun=15000, max_iter=200,\n",
              "              momentum=0.9, n_iter_no_change=10, nesterovs_momentum=True,\n",
              "              power_t=0.5, random_state=1, shuffle=True, solver='lbfgs',\n",
              "              tol=0.0001, validation_fraction=0.1, verbose=False,\n",
              "              warm_start=False)"
            ]
          },
          "metadata": {
            "tags": []
          },
          "execution_count": 11
        }
      ]
    },
    {
      "cell_type": "code",
      "metadata": {
        "id": "MWxPs3Ds98N6"
      },
      "source": [
        "Y_pred1= regressor.predict(X_valid)\n",
        "Y_pred2= S.predict(X_valid)\n",
        "Y_pred3= N.predict(X_valid)\n",
        "Y_pred4= Rf.predict(X_valid)\n",
        "Y_pred5= ANN.predict(X_valid)"
      ],
      "execution_count": 12,
      "outputs": []
    },
    {
      "cell_type": "code",
      "metadata": {
        "id": "eb9MuuTM-CoQ",
        "outputId": "98086b64-32cd-4622-a6a5-225425aa0b08",
        "colab": {
          "base_uri": "https://localhost:8080/",
          "height": 857
        }
      },
      "source": [
        "for i in range(5):\n",
        "  ac=accuracy_score(dataset['Label'][len(train):], globals()['Y_pred'+str(int(i+1))])\n",
        "  print(ac)\n",
        "  print(classification_report(dataset['Label'][len(train):], globals()['Y_pred'+str(int(i+1))]))"
      ],
      "execution_count": 13,
      "outputs": [
        {
          "output_type": "stream",
          "text": [
            "0.813\n",
            "               precision    recall  f1-score   support\n",
            "\n",
            "  INFORMATIVE       0.86      0.72      0.78       472\n",
            "UNINFORMATIVE       0.78      0.90      0.84       528\n",
            "\n",
            "     accuracy                           0.81      1000\n",
            "    macro avg       0.82      0.81      0.81      1000\n",
            " weighted avg       0.82      0.81      0.81      1000\n",
            "\n",
            "0.814\n",
            "               precision    recall  f1-score   support\n",
            "\n",
            "  INFORMATIVE       0.86      0.72      0.78       472\n",
            "UNINFORMATIVE       0.78      0.90      0.84       528\n",
            "\n",
            "     accuracy                           0.81      1000\n",
            "    macro avg       0.82      0.81      0.81      1000\n",
            " weighted avg       0.82      0.81      0.81      1000\n",
            "\n",
            "0.785\n",
            "               precision    recall  f1-score   support\n",
            "\n",
            "  INFORMATIVE       0.77      0.78      0.77       472\n",
            "UNINFORMATIVE       0.80      0.79      0.79       528\n",
            "\n",
            "     accuracy                           0.79      1000\n",
            "    macro avg       0.78      0.78      0.78      1000\n",
            " weighted avg       0.79      0.79      0.79      1000\n",
            "\n",
            "0.696\n",
            "               precision    recall  f1-score   support\n",
            "\n",
            "  INFORMATIVE       0.87      0.42      0.56       472\n",
            "UNINFORMATIVE       0.64      0.95      0.77       528\n",
            "\n",
            "     accuracy                           0.70      1000\n",
            "    macro avg       0.76      0.68      0.67      1000\n",
            " weighted avg       0.75      0.70      0.67      1000\n",
            "\n",
            "0.817\n",
            "               precision    recall  f1-score   support\n",
            "\n",
            "  INFORMATIVE       0.83      0.77      0.80       472\n",
            "UNINFORMATIVE       0.81      0.86      0.83       528\n",
            "\n",
            "     accuracy                           0.82      1000\n",
            "    macro avg       0.82      0.81      0.82      1000\n",
            " weighted avg       0.82      0.82      0.82      1000\n",
            "\n"
          ],
          "name": "stdout"
        }
      ]
    },
    {
      "cell_type": "code",
      "metadata": {
        "id": "-keWV1CT-U9U"
      },
      "source": [
        ""
      ],
      "execution_count": 13,
      "outputs": []
    }
  ]
}